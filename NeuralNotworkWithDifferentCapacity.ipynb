{
  "nbformat": 4,
  "nbformat_minor": 0,
  "metadata": {
    "colab": {
      "provenance": [],
      "authorship_tag": "ABX9TyOvgOzSCcvWb/TY94Qebv4l",
      "include_colab_link": true
    },
    "kernelspec": {
      "name": "python3",
      "display_name": "Python 3"
    },
    "language_info": {
      "name": "python"
    }
  },
  "cells": [
    {
      "cell_type": "markdown",
      "metadata": {
        "id": "view-in-github",
        "colab_type": "text"
      },
      "source": [
        "<a href=\"https://colab.research.google.com/github/MUHAMMADAKMAL137/Layer-weight-creation-in-build-input_shape-/blob/main/NeuralNotworkWithDifferentCapacity.ipynb\" target=\"_parent\"><img src=\"https://colab.research.google.com/assets/colab-badge.svg\" alt=\"Open In Colab\"/></a>"
      ]
    },
    {
      "cell_type": "code",
      "execution_count": 7,
      "metadata": {
        "id": "XmCd1zbgAn2I"
      },
      "outputs": [],
      "source": [
        "from keras import models\n",
        "from keras import layers"
      ]
    },
    {
      "cell_type": "code",
      "source": [
        "from keras.datasets import imdb"
      ],
      "metadata": {
        "id": "fy3m8182Ax-n"
      },
      "execution_count": 8,
      "outputs": []
    },
    {
      "cell_type": "code",
      "source": [
        "(train_data, train_labels),(test_data, test_lables) = imdb.load_data(num_words=10000)"
      ],
      "metadata": {
        "colab": {
          "base_uri": "https://localhost:8080/"
        },
        "id": "rHDSXKV6BJrf",
        "outputId": "00ef0022-1d1b-4807-d68d-8196c2da3611"
      },
      "execution_count": 9,
      "outputs": [
        {
          "output_type": "stream",
          "name": "stdout",
          "text": [
            "Downloading data from https://storage.googleapis.com/tensorflow/tf-keras-datasets/imdb.npz\n",
            "17464789/17464789 [==============================] - 1s 0us/step\n"
          ]
        }
      ]
    },
    {
      "cell_type": "code",
      "source": [
        "train_labels[0]"
      ],
      "metadata": {
        "colab": {
          "base_uri": "https://localhost:8080/"
        },
        "id": "CFVUYOMtBof_",
        "outputId": "ae81062d-3139-48da-a2d2-0278b5a829fb"
      },
      "execution_count": 10,
      "outputs": [
        {
          "output_type": "execute_result",
          "data": {
            "text/plain": [
              "1"
            ]
          },
          "metadata": {},
          "execution_count": 10
        }
      ]
    },
    {
      "cell_type": "code",
      "source": [
        "max([max(sequence) for  sequence in train_data])"
      ],
      "metadata": {
        "colab": {
          "base_uri": "https://localhost:8080/"
        },
        "id": "pBZHp0nvCOlm",
        "outputId": "2d225d2a-2ecb-46d1-f782-c6e127ab53ee"
      },
      "execution_count": 11,
      "outputs": [
        {
          "output_type": "execute_result",
          "data": {
            "text/plain": [
              "9999"
            ]
          },
          "metadata": {},
          "execution_count": 11
        }
      ]
    },
    {
      "cell_type": "code",
      "source": [
        "word_index = imdb.get_word_index()\n",
        "reverse_word_index =dict([(value, key) for (key, value) in word_index.items()])\n",
        "decoded_review = ' '.join(\n",
        "[reverse_word_index.get(i - 3, '?') for i in train_data[0]])"
      ],
      "metadata": {
        "colab": {
          "base_uri": "https://localhost:8080/"
        },
        "id": "qKeKQsNkCSkP",
        "outputId": "fcd116d8-3404-4e21-c011-72c3a542ec60"
      },
      "execution_count": 12,
      "outputs": [
        {
          "output_type": "stream",
          "name": "stdout",
          "text": [
            "Downloading data from https://storage.googleapis.com/tensorflow/tf-keras-datasets/imdb_word_index.json\n",
            "1641221/1641221 [==============================] - 0s 0us/step\n"
          ]
        }
      ]
    },
    {
      "cell_type": "code",
      "source": [
        "def vectorize_sequences(sequences, dimension = 10000):\n",
        "    results = np.zeros((len(sequences), dimension))\n",
        "    for i, sequence in enumerate(sequences):\n",
        "        results[i, sequence] = 1.\n",
        "    return results"
      ],
      "metadata": {
        "id": "u2-J__QXCYOK"
      },
      "execution_count": 13,
      "outputs": []
    },
    {
      "cell_type": "code",
      "source": [
        "import numpy as np\n",
        "x_train = vectorize_sequences(train_data)\n",
        "x_test = vectorize_sequences(test_data)"
      ],
      "metadata": {
        "id": "vYJ7LnWRC8ng"
      },
      "execution_count": 14,
      "outputs": []
    },
    {
      "cell_type": "code",
      "source": [
        "y_train =np.asarray(train_labels).astype('float32')\n",
        "y_test =np.asarray(test_lables).astype('float32')"
      ],
      "metadata": {
        "id": "ZaF0CCR2C-7A"
      },
      "execution_count": 15,
      "outputs": []
    },
    {
      "cell_type": "code",
      "source": [
        "from keras import models\n",
        "from keras import layers\n",
        "model = models.Sequential()\n",
        "model.add(layers.Dense(512, activation = 'relu', input_shape =(10000,)))\n",
        "model.add(layers.Dense(512, activation = 'relu'))\n",
        "model.add(layers.Dense(1, activation= 'sigmoid'))"
      ],
      "metadata": {
        "id": "VIUJSKPEDcAL"
      },
      "execution_count": 17,
      "outputs": []
    },
    {
      "cell_type": "code",
      "source": [
        "model.compile(optimizer='rmsprop', loss='binary_crossentropy', metrics=['accuracy'])"
      ],
      "metadata": {
        "id": "e__-OLriKQOm"
      },
      "execution_count": 18,
      "outputs": []
    },
    {
      "cell_type": "code",
      "source": [
        "from keras import optimizers"
      ],
      "metadata": {
        "id": "6xqpWdjXKhpe"
      },
      "execution_count": 19,
      "outputs": []
    },
    {
      "cell_type": "code",
      "source": [
        "model.compile(optimizer=optimizers.RMSprop(learning_rate=0.001), loss='binary_crossentropy', metrics=['accuracy'])"
      ],
      "metadata": {
        "id": "t5tC4OP9MDOB"
      },
      "execution_count": 20,
      "outputs": []
    },
    {
      "cell_type": "code",
      "source": [
        "from keras import losses\n",
        "from keras import metrics"
      ],
      "metadata": {
        "id": "HM0fGuqeMdCN"
      },
      "execution_count": 21,
      "outputs": []
    },
    {
      "cell_type": "code",
      "source": [
        "model.compile(optimizer=optimizers.RMSprop(learning_rate=0.001),\n",
        "loss=losses.binary_crossentropy,\n",
        "metrics=[metrics.binary_accuracy])\n"
      ],
      "metadata": {
        "id": "o3Z6ssiOMwLW"
      },
      "execution_count": 22,
      "outputs": []
    },
    {
      "cell_type": "code",
      "source": [
        "x_val =x_train[:10000]\n",
        "partial_x_train= x_train[10000:]\n",
        "y_val =y_train[:10000]\n",
        "partial_y_train= y_train[10000:]"
      ],
      "metadata": {
        "id": "jdEV5k6ZM1l6"
      },
      "execution_count": 27,
      "outputs": []
    },
    {
      "cell_type": "code",
      "source": [
        "model.compile(optimizer='rmsprop',\n",
        "loss='binary_crossentropy',\n",
        "metrics=['accuracy'])\n",
        "xx=[history]"
      ],
      "metadata": {
        "id": "1c3FWh-aNL1k"
      },
      "execution_count": 28,
      "outputs": []
    },
    {
      "cell_type": "code",
      "source": [
        "history=model.fit(partial_x_train, partial_y_train, epochs=20, batch_size=512, validation_data=(x_val, y_val))\n",
        "loss = history.history['loss']\n",
        "val_loss = history.history['val_loss']\n"
      ],
      "metadata": {
        "colab": {
          "base_uri": "https://localhost:8080/"
        },
        "id": "dKQilXVuNS-9",
        "outputId": "393af24e-cdeb-4b40-fa7a-b05176416548"
      },
      "execution_count": 25,
      "outputs": [
        {
          "output_type": "stream",
          "name": "stdout",
          "text": [
            "Epoch 1/20\n",
            "30/30 [==============================] - 12s 372ms/step - loss: 0.5524 - accuracy: 0.7164 - val_loss: 0.5872 - val_accuracy: 0.7186\n",
            "Epoch 2/20\n",
            "30/30 [==============================] - 10s 335ms/step - loss: 0.3365 - accuracy: 0.8593 - val_loss: 0.2859 - val_accuracy: 0.8834\n",
            "Epoch 3/20\n",
            "30/30 [==============================] - 9s 301ms/step - loss: 0.2305 - accuracy: 0.9115 - val_loss: 0.2672 - val_accuracy: 0.8870\n",
            "Epoch 4/20\n",
            "30/30 [==============================] - 11s 360ms/step - loss: 0.1901 - accuracy: 0.9282 - val_loss: 0.2745 - val_accuracy: 0.8872\n",
            "Epoch 5/20\n",
            "30/30 [==============================] - 11s 365ms/step - loss: 0.1394 - accuracy: 0.9486 - val_loss: 0.2981 - val_accuracy: 0.8886\n",
            "Epoch 6/20\n",
            "30/30 [==============================] - 10s 342ms/step - loss: 0.0991 - accuracy: 0.9638 - val_loss: 0.3938 - val_accuracy: 0.8475\n",
            "Epoch 7/20\n",
            "30/30 [==============================] - 10s 349ms/step - loss: 0.0747 - accuracy: 0.9753 - val_loss: 0.3592 - val_accuracy: 0.8831\n",
            "Epoch 8/20\n",
            "30/30 [==============================] - 9s 309ms/step - loss: 0.0841 - accuracy: 0.9767 - val_loss: 0.3255 - val_accuracy: 0.8852\n",
            "Epoch 9/20\n",
            "30/30 [==============================] - 11s 360ms/step - loss: 0.0494 - accuracy: 0.9831 - val_loss: 0.3148 - val_accuracy: 0.8840\n",
            "Epoch 10/20\n",
            "30/30 [==============================] - 10s 339ms/step - loss: 0.0106 - accuracy: 0.9993 - val_loss: 0.4465 - val_accuracy: 0.8829\n",
            "Epoch 11/20\n",
            "30/30 [==============================] - 10s 333ms/step - loss: 0.0763 - accuracy: 0.9812 - val_loss: 0.3744 - val_accuracy: 0.8829\n",
            "Epoch 12/20\n",
            "30/30 [==============================] - 9s 305ms/step - loss: 0.0053 - accuracy: 0.9998 - val_loss: 0.4732 - val_accuracy: 0.8828\n",
            "Epoch 13/20\n",
            "30/30 [==============================] - 11s 362ms/step - loss: 0.0021 - accuracy: 1.0000 - val_loss: 0.5394 - val_accuracy: 0.8829\n",
            "Epoch 14/20\n",
            "30/30 [==============================] - 11s 366ms/step - loss: 0.0844 - accuracy: 0.9835 - val_loss: 0.4416 - val_accuracy: 0.8813\n",
            "Epoch 15/20\n",
            "30/30 [==============================] - 13s 424ms/step - loss: 0.0035 - accuracy: 1.0000 - val_loss: 0.4849 - val_accuracy: 0.8841\n",
            "Epoch 16/20\n",
            "30/30 [==============================] - 12s 411ms/step - loss: 0.0012 - accuracy: 1.0000 - val_loss: 0.5617 - val_accuracy: 0.8838\n",
            "Epoch 17/20\n",
            "30/30 [==============================] - 12s 415ms/step - loss: 6.8056e-04 - accuracy: 1.0000 - val_loss: 0.6101 - val_accuracy: 0.8835\n",
            "Epoch 18/20\n",
            "30/30 [==============================] - 9s 319ms/step - loss: 4.7646e-04 - accuracy: 1.0000 - val_loss: 0.6431 - val_accuracy: 0.8838\n",
            "Epoch 19/20\n",
            "30/30 [==============================] - 10s 317ms/step - loss: 2.9936e-04 - accuracy: 1.0000 - val_loss: 0.6745 - val_accuracy: 0.8838\n",
            "Epoch 20/20\n",
            "30/30 [==============================] - 11s 364ms/step - loss: 2.2749e-04 - accuracy: 1.0000 - val_loss: 0.6942 - val_accuracy: 0.8835\n"
          ]
        }
      ]
    },
    {
      "cell_type": "code",
      "source": [
        "import matplotlib.pyplot as plt\n",
        "loss = history.history['loss']\n",
        "val_loss = history.history['val_loss']\n",
        "epochs = range(1, len(loss) + 1)"
      ],
      "metadata": {
        "id": "s03bz0bzNW6A"
      },
      "execution_count": 29,
      "outputs": []
    },
    {
      "cell_type": "code",
      "source": [
        "from keras import regularizers"
      ],
      "metadata": {
        "id": "_aBet2f-SCVW"
      },
      "execution_count": 30,
      "outputs": []
    },
    {
      "cell_type": "code",
      "source": [
        "model = models.Sequential()\n",
        "model.add(layers.Dense(16, kernel_regularizer=regularizers.l2(0.001), activation='relu', input_shape=(10000,)))\n",
        "model.add(layers.Dense(16, kernel_regularizer=regularizers.l2(0.001), activation='relu'))\n",
        "model.add(layers.Dense(1, activation='sigmoid'))"
      ],
      "metadata": {
        "id": "piJ5J43GTH8p"
      },
      "execution_count": 32,
      "outputs": []
    },
    {
      "cell_type": "code",
      "source": [
        "model = models.Sequential()\n",
        "model.add(layers.Dense(16, kernel_regularizer=regularizers.l1_l2(l1=0.001, l2=0.001), activation='relu', input_shape=(10000,)))\n",
        "model.add(layers.Dense(16, kernel_regularizer=regularizers.l1_l2(l1=0.001, l2=0.001), activation='relu'))\n",
        "model.add(layers.Dense(1, activation='sigmoid'))"
      ],
      "metadata": {
        "id": "c3gpRgQQWG7T"
      },
      "execution_count": 34,
      "outputs": []
    },
    {
      "cell_type": "code",
      "source": [
        "\n",
        "model = models.Sequential()\n",
        "model.add(layers.Dense(16, activation='relu', input_shape=(10000,)))\n",
        "model.add(layers.Dropout(0.5))\n",
        "model.add(layers.Dense(16, activation = 'relu'))\n",
        "model.add(layers.Dropout(0.5))\n",
        "model.add(layers.Dense(1, activation='sigmoid'))"
      ],
      "metadata": {
        "id": "4u3kib5n0xCy"
      },
      "execution_count": 46,
      "outputs": []
    },
    {
      "cell_type": "code",
      "source": [],
      "metadata": {
        "id": "GMZREQB21eyz"
      },
      "execution_count": 39,
      "outputs": []
    },
    {
      "cell_type": "code",
      "source": [],
      "metadata": {
        "id": "slMrOJDk2Q_S"
      },
      "execution_count": null,
      "outputs": []
    }
  ]
}